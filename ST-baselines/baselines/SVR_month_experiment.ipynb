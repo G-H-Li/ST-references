{
 "cells": [
  {
   "cell_type": "code",
   "execution_count": 1,
   "metadata": {},
   "outputs": [],
   "source": [
    "import pandas as pd\n",
    "import numpy as np\n",
    "from sklearn.svm import SVR\n",
    "from sklearn.model_selection import GridSearchCV\n",
    "from sklearn.preprocessing import StandardScaler\n",
    "from sklearn.preprocessing import MinMaxScaler\n",
    "from sklearn.metrics import mean_squared_error\n",
    "from sklearn.linear_model import LinearRegression\n",
    "from time import time\n",
    "import matplotlib.pyplot as plt"
   ]
  },
  {
   "cell_type": "code",
   "execution_count": 2,
   "metadata": {},
   "outputs": [],
   "source": [
    "model = SVR(kernel='rbf',C=1,epsilon=0.1)"
   ]
  },
  {
   "cell_type": "code",
   "execution_count": 3,
   "metadata": {},
   "outputs": [],
   "source": [
    "def return_data(fold,month,with_scaling):\n",
    "    train_input = pd.read_csv('../data/time_feature'+'/fold'+str(fold)+'/train_data_'+month+'.csv.gz')\n",
    "    test_input = pd.read_csv('../data/time_feature'+'/fold'+str(fold)+'/test_data_'+month+'.csv.gz')\n",
    "    test_output = np.array(test_input['PM25_Concentration'])\n",
    "    train_output = np.array(train_input['PM25_Concentration'])\n",
    "    train_input= train_input.drop(['station_id','PM25_Concentration','time','filled'],axis=1)\n",
    "    try:\n",
    "        test_input= test_input.drop(['PM25_Concentration','station_id','time','filled'],axis=1)\n",
    "    except:\n",
    "        test_input= test_input.drop(['station_id','time','filled'],axis=1)\n",
    "#     test_output= test_output.drop(['time'],axis=1)\n",
    "    if with_scaling:\n",
    "        scaler = MinMaxScaler().fit(train_input)\n",
    "        train_input = pd.DataFrame(scaler.transform(train_input),columns=list(train_input.columns))\n",
    "        test_input = pd.DataFrame(scaler.transform(test_input),columns=list(test_input.columns))\n",
    "    return train_input,train_output,test_input,test_output\n",
    "\n",
    "def run_model(model,train_input,train_output,test_input,test_output,ret_output):\n",
    "    model.fit(np.array(train_input), train_output)\n",
    "    test_pred = model.predict(np.array(test_input))\n",
    "    err = mean_squared_error(test_pred, test_output, squared=False)\n",
    "    if ret_output:\n",
    "        return err,test_pred\n",
    "    else:\n",
    "        return err"
   ]
  },
  {
   "cell_type": "code",
   "execution_count": 4,
   "metadata": {},
   "outputs": [
    {
     "name": "stdout",
     "output_type": "stream",
     "text": [
      "Fold:  0\n",
      "Data received\n",
      "RMSE:  57.75882365586619\n",
      "Time taken:  19.846774578094482\n",
      "Fold:  1\n",
      "Data received\n",
      "RMSE:  49.872698111040734\n",
      "Time taken:  20.010626077651978\n",
      "Fold:  2\n",
      "Data received\n",
      "RMSE:  56.40413890083982\n",
      "Time taken:  19.454524040222168\n"
     ]
    }
   ],
   "source": [
    "for fold in [0,1,2]:\n",
    "    train_input,train_output,test_input,test_output = return_data(fold=fold,month='mar',with_scaling=True)\n",
    "#     train_input = train_input.loc[:,['delta_t','humidity']]\n",
    "#     test_input = test_input.loc[:,['delta_t','humidity']]\n",
    "    print(\"Fold: \",fold)\n",
    "    print(\"Data received\")\n",
    "    init = time()\n",
    "    rmse,test_pred = run_model(model,train_input,train_output,test_input,test_output,True)\n",
    "    print(\"RMSE: \",rmse)\n",
    "    print(\"Time taken: \",time()-init)"
   ]
  },
  {
   "cell_type": "code",
   "execution_count": 9,
   "metadata": {},
   "outputs": [],
   "source": [
    "# kernel = ['rbf']\n",
    "# degree = [2,3,5]\n",
    "# gamma = ['scale','auto']\n",
    "C = [0.1,0.5,1,2,3]\n",
    "epsilon = [0.1,0.5,1]\n",
    "\n",
    "random_grid = {'C': C,\n",
    "               'epsilon': epsilon}\n",
    "\n",
    "model = GridSearchCV(SVR(),random_grid)"
   ]
  },
  {
   "cell_type": "code",
   "execution_count": 10,
   "metadata": {},
   "outputs": [
    {
     "name": "stdout",
     "output_type": "stream",
     "text": [
      "Fold:  0\n",
      "Data received\n",
      "RMSE:  54.59397595237452\n",
      "Time taken:  794.7578637599945\n"
     ]
    }
   ],
   "source": [
    "for fold in [0]:\n",
    "    train_input,train_output,test_input,test_output = return_data(fold=fold,month='mar',with_scaling=True)\n",
    "#     train_input = train_input.loc[:,['delta_t','humidity']]\n",
    "#     test_input = test_input.loc[:,['delta_t','humidity']]\n",
    "    print(\"Fold: \",fold)\n",
    "    print(\"Data received\")\n",
    "    init = time()\n",
    "    rmse,test_pred = run_model(model,train_input,train_output,test_input,test_output,True)\n",
    "    print(\"RMSE: \",rmse)\n",
    "    print(\"Time taken: \",time()-init)\n",
    "    model.get_params()"
   ]
  },
  {
   "cell_type": "code",
   "execution_count": 11,
   "metadata": {},
   "outputs": [
    {
     "data": {
      "text/plain": [
       "{'cv': None,\n",
       " 'error_score': nan,\n",
       " 'estimator__C': 1.0,\n",
       " 'estimator__cache_size': 200,\n",
       " 'estimator__coef0': 0.0,\n",
       " 'estimator__degree': 3,\n",
       " 'estimator__epsilon': 0.1,\n",
       " 'estimator__gamma': 'scale',\n",
       " 'estimator__kernel': 'rbf',\n",
       " 'estimator__max_iter': -1,\n",
       " 'estimator__shrinking': True,\n",
       " 'estimator__tol': 0.001,\n",
       " 'estimator__verbose': False,\n",
       " 'estimator': SVR(),\n",
       " 'n_jobs': None,\n",
       " 'param_grid': {'C': [0.1, 0.5, 1, 2, 3], 'epsilon': [0.1, 0.5, 1]},\n",
       " 'pre_dispatch': '2*n_jobs',\n",
       " 'refit': True,\n",
       " 'return_train_score': False,\n",
       " 'scoring': None,\n",
       " 'verbose': 0}"
      ]
     },
     "execution_count": 11,
     "metadata": {},
     "output_type": "execute_result"
    }
   ],
   "source": [
    "model.get_params()"
   ]
  },
  {
   "cell_type": "code",
   "execution_count": 39,
   "metadata": {},
   "outputs": [],
   "source": [
    "model = LinearRegression()"
   ]
  },
  {
   "cell_type": "code",
   "execution_count": 40,
   "metadata": {},
   "outputs": [
    {
     "name": "stdout",
     "output_type": "stream",
     "text": [
      "Fold:  0\n",
      "Data received\n",
      "RMSE:  54.64386656662314\n",
      "Time taken:  0.015205144882202148\n",
      "Fold:  1\n",
      "Data received\n",
      "RMSE:  49.1655519496443\n",
      "Time taken:  0.01169586181640625\n",
      "Fold:  2\n",
      "Data received\n",
      "RMSE:  53.17154581782867\n",
      "Time taken:  0.011575698852539062\n"
     ]
    }
   ],
   "source": [
    "for fold in [0,1,2]:\n",
    "    train_input,train_output,test_input,test_output = return_data(fold=fold,month='mar',with_scaling=True)\n",
    "#     train_input = train_input.loc[:,['delta_t','humidity']]\n",
    "#     test_input = test_input.loc[:,['delta_t','humidity']]\n",
    "    print(\"Fold: \",fold)\n",
    "    print(\"Data received\")\n",
    "    init = time()\n",
    "    rmse,test_pred = run_model(model,train_input,train_output,test_input,test_output,True)\n",
    "    print(\"RMSE: \",rmse)\n",
    "    print(\"Time taken: \",time()-init)"
   ]
  },
  {
   "cell_type": "code",
   "execution_count": null,
   "metadata": {},
   "outputs": [],
   "source": []
  }
 ],
 "metadata": {
  "kernelspec": {
   "display_name": "Python 3",
   "language": "python",
   "name": "python3"
  },
  "language_info": {
   "codemirror_mode": {
    "name": "ipython",
    "version": 3
   },
   "file_extension": ".py",
   "mimetype": "text/x-python",
   "name": "python",
   "nbconvert_exporter": "python",
   "pygments_lexer": "ipython3",
   "version": "3.6.9"
  }
 },
 "nbformat": 4,
 "nbformat_minor": 2
}
