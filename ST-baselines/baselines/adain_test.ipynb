{
 "cells": [
  {
   "cell_type": "code",
   "execution_count": 1,
   "metadata": {},
   "outputs": [],
   "source": [
    "import pandas as pd\n",
    "import numpy as np\n",
    "import sys\n",
    "import matplotlib.pyplot as plt\n",
    "from sklearn.model_selection import KFold\n",
    "from sklearn.metrics import mean_squared_error\n",
    "import warnings\n",
    "from IPython.display import clear_output\n",
    "from multiprocessing import Pool\n",
    "from time import time\n",
    "\n",
    "warnings.filterwarnings('ignore')\n",
    "\n",
    "from model import ADAIN\n",
    "import tensorflow as tf\n",
    "gpus = tf.config.experimental.list_physical_devices('GPU')\n",
    "for gpu in gpus:\n",
    "    tf.config.experimental.set_memory_growth(gpu, True)"
   ]
  },
  {
   "cell_type": "markdown",
   "metadata": {},
   "source": [
    "### Fold 0"
   ]
  },
  {
   "cell_type": "code",
   "execution_count": 13,
   "metadata": {},
   "outputs": [],
   "source": [
    "fold = str(0)\n",
    "station_metaq = np.load('../data/adain/fold_'+fold+'_station_metaq_data_test.npz')['arr_0']\n",
    "station_dist = np.load('../data/adain/fold_'+fold+'_station_dist_data_test.npz')['arr_0']\n",
    "\n",
    "local_met = np.load('../data/adain/fold_'+fold+'_local_met_data_test.npz')['arr_0']\n",
    "local_aq0 = np.load('../data/adain/fold_'+fold+'_local_aq_data_test.npz')['arr_0']\n",
    "local_stationid = np.load('../data/adain/fold_'+fold+'_local_stationids_test.npz')['arr_0']"
   ]
  },
  {
   "cell_type": "code",
   "execution_count": 14,
   "metadata": {},
   "outputs": [
    {
     "data": {
      "text/plain": [
       "30.707960314612567"
      ]
     },
     "execution_count": 14,
     "metadata": {},
     "output_type": "execute_result"
    }
   ],
   "source": [
    "model = tf.keras.models.load_model('../results/adain/trained_'+fold+'.h5')\n",
    "\n",
    "preds0 = model.predict([local_met, station_dist, station_metaq])\n",
    "\n",
    "mean_squared_error(local_aq0, preds0, squared=False)"
   ]
  },
  {
   "cell_type": "code",
   "execution_count": 19,
   "metadata": {},
   "outputs": [
    {
     "name": "stdout",
     "output_type": "stream",
     "text": [
      "1003 30.93912378694612\n",
      "1005 32.53990770704477\n",
      "1006 24.777214314227084\n",
      "1010 31.23569927226019\n",
      "1011 32.529045391544585\n",
      "1014 39.83379178509891\n",
      "1018 34.227025954477455\n",
      "1019 45.763058625076575\n",
      "1030 34.961665556272344\n",
      "1035 52.92676109308956\n"
     ]
    }
   ],
   "source": [
    "stationids = np.unique(local_stationid)\n",
    "for station in stationids:\n",
    "    rows = np.where(local_stationid==station)\n",
    "    err = mean_squared_error(preds0[rows],local_aq0[rows], squared=False)\n",
    "    print(station,err)"
   ]
  },
  {
   "cell_type": "markdown",
   "metadata": {},
   "source": [
    "### Fold 1"
   ]
  },
  {
   "cell_type": "code",
   "execution_count": 15,
   "metadata": {},
   "outputs": [],
   "source": [
    "fold = str(1)\n",
    "station_metaq = np.load('../data/adain/fold_'+fold+'_station_metaq_data_test.npz')['arr_0']\n",
    "station_dist = np.load('../data/adain/fold_'+fold+'_station_dist_data_test.npz')['arr_0']\n",
    "\n",
    "local_met = np.load('../data/adain/fold_'+fold+'_local_met_data_test.npz')['arr_0']\n",
    "local_aq1 = np.load('../data/adain/fold_'+fold+'_local_aq_data_test.npz')['arr_0']\n",
    "local_stationid = np.load('../data/adain/fold_'+fold+'_local_stationids_test.npz')['arr_0']"
   ]
  },
  {
   "cell_type": "code",
   "execution_count": 16,
   "metadata": {},
   "outputs": [
    {
     "data": {
      "text/plain": [
       "32.968716579457165"
      ]
     },
     "execution_count": 16,
     "metadata": {},
     "output_type": "execute_result"
    }
   ],
   "source": [
    "model = tf.keras.models.load_model('../results/adain/trained_'+fold+'.h5')\n",
    "\n",
    "preds1 = model.predict([local_met, station_dist, station_metaq])\n",
    "\n",
    "mean_squared_error(local_aq1, preds1, squared=False)"
   ]
  },
  {
   "cell_type": "code",
   "execution_count": 17,
   "metadata": {},
   "outputs": [
    {
     "name": "stdout",
     "output_type": "stream",
     "text": [
      "1002 27.5453142446929\n",
      "1004 28.464204971368687\n",
      "1007 21.065093389258717\n",
      "1023 25.956718582577068\n",
      "1025 30.08510766820561\n",
      "1029 41.5760741621442\n",
      "1031 38.78357541289693\n",
      "1032 31.692457490634297\n",
      "1033 38.912281853212896\n",
      "1034 39.07033554540359\n"
     ]
    }
   ],
   "source": [
    "stationids = np.unique(local_stationid)\n",
    "for station in stationids:\n",
    "    rows = np.where(local_stationid==station)\n",
    "    err = mean_squared_error(preds1[rows],local_aq1[rows], squared=False)\n",
    "    print(station,err)"
   ]
  },
  {
   "cell_type": "code",
   "execution_count": 18,
   "metadata": {},
   "outputs": [
    {
     "name": "stdout",
     "output_type": "stream",
     "text": [
      "21.700990724407983\n",
      "40.0969200145252\n",
      "26.24898106584621\n",
      "26.013292590894764\n",
      "31.714203587218503\n",
      "42.21255767923697\n",
      "19.5589825522535\n",
      "22.083001031352353\n",
      "24.50167723974685\n",
      "56.2737121744582\n"
     ]
    }
   ],
   "source": [
    "d1 = np.array(np.split(local_aq1, 10))\n",
    "d2 = np.array(np.split(preds1, 10))\n",
    "\n",
    "for i in range(10):\n",
    "    print(mean_squared_error(d1[i], d2[i], squared=False))"
   ]
  },
  {
   "cell_type": "markdown",
   "metadata": {},
   "source": [
    "### Fold 2"
   ]
  },
  {
   "cell_type": "code",
   "execution_count": 19,
   "metadata": {},
   "outputs": [],
   "source": [
    "fold = str(2)\n",
    "station_metaq = np.load('../data/adain/fold_'+fold+'_station_metaq_data_test.npz')['arr_0']\n",
    "station_dist = np.load('../data/adain/fold_'+fold+'_station_dist_data_test.npz')['arr_0']\n",
    "\n",
    "local_met = np.load('../data/adain/fold_'+fold+'_local_met_data_test.npz')['arr_0']\n",
    "local_aq2 = np.load('../data/adain/fold_'+fold+'_local_aq_data_test.npz')['arr_0']\n",
    "local_stationid = np.load('../data/adain/fold_'+fold+'_local_stationids_test.npz')['arr_0']"
   ]
  },
  {
   "cell_type": "code",
   "execution_count": 20,
   "metadata": {},
   "outputs": [
    {
     "data": {
      "text/plain": [
       "32.19474111798532"
      ]
     },
     "execution_count": 20,
     "metadata": {},
     "output_type": "execute_result"
    }
   ],
   "source": [
    "model = tf.keras.models.load_model('../results/adain/trained_'+fold+'.h5')\n",
    "\n",
    "preds2 = model.predict([local_met, station_dist, station_metaq])\n",
    "\n",
    "mean_squared_error(local_aq2, preds2, squared=False)"
   ]
  },
  {
   "cell_type": "code",
   "execution_count": 29,
   "metadata": {},
   "outputs": [
    {
     "name": "stdout",
     "output_type": "stream",
     "text": [
      "1008 31.042461571999908\n",
      "1012 35.51963735378074\n",
      "1016 32.64421096814803\n",
      "1017 36.614491748838\n",
      "1022 24.84871318995769\n",
      "1024 33.3731261870793\n",
      "1026 35.89425851512612\n",
      "1027 33.42338187053883\n",
      "1028 34.67165093331203\n",
      "1036 51.350452478595074\n"
     ]
    }
   ],
   "source": [
    "stationids = np.unique(local_stationid)\n",
    "for station in stationids:\n",
    "    rows = np.where(local_stationid==station)\n",
    "    err = mean_squared_error(preds2[rows],local_aq2[rows], squared=False)\n",
    "    print(station,err)"
   ]
  },
  {
   "cell_type": "code",
   "execution_count": null,
   "metadata": {},
   "outputs": [],
   "source": []
  }
 ],
 "metadata": {
  "kernelspec": {
   "display_name": "Python 3",
   "language": "python",
   "name": "python3"
  },
  "language_info": {
   "codemirror_mode": {
    "name": "ipython",
    "version": 3
   },
   "file_extension": ".py",
   "mimetype": "text/x-python",
   "name": "python",
   "nbconvert_exporter": "python",
   "pygments_lexer": "ipython3",
   "version": "3.6.9"
  }
 },
 "nbformat": 4,
 "nbformat_minor": 5
}
