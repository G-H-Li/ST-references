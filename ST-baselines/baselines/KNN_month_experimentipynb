{
 "cells": [
  {
   "cell_type": "code",
   "execution_count": 2,
   "metadata": {},
   "outputs": [],
   "source": [
    "import pandas as pd\n",
    "import numpy as np\n",
    "from sklearn.neighbors import KNeighborsRegressor\n",
    "from sklearn.model_selection import GridSearchCV\n",
    "from sklearn.metrics import mean_squared_error\n",
    "from sklearn.preprocessing import StandardScaler\n",
    "from sklearn.preprocessing import MinMaxScaler\n",
    "from time import time\n",
    "import matplotlib.pyplot as plt"
   ]
  },
  {
   "cell_type": "code",
   "execution_count": 60,
   "metadata": {},
   "outputs": [],
   "source": [
    "leaf_size = [20,30,40]\n",
    "n_neighbors = [3,5,7]\n",
    "# p=[1,2]\n",
    "#Convert to dictionary\n",
    "hyperparameters = dict(leaf_size=leaf_size, n_neighbors=n_neighbors,p=[2])\n",
    "knn_r = KNeighborsRegressor()\n",
    "model =  GridSearchCV(knn_r, hyperparameters)"
   ]
  },
  {
   "cell_type": "markdown",
   "metadata": {},
   "source": [
    "### Time feature data"
   ]
  },
  {
   "cell_type": "code",
   "execution_count": 3,
   "metadata": {},
   "outputs": [],
   "source": [
    "model = KNeighborsRegressor(\n",
    " algorithm= 'auto',\n",
    " leaf_size= 30,\n",
    " metric= 'minkowski',\n",
    " metric_params= None,\n",
    " n_jobs= 15,\n",
    " n_neighbors= 5,\n",
    " p= 2,\n",
    " weights= 'uniform')"
   ]
  },
  {
   "cell_type": "code",
   "execution_count": 4,
   "metadata": {},
   "outputs": [],
   "source": [
    "def return_data(fold,month,with_scaling):\n",
    "    train_input = pd.read_csv('../data/time_feature'+'/fold'+str(fold)+'/train_data_'+month+'.csv.gz')\n",
    "    test_input = pd.read_csv('../data/time_feature'+'/fold'+str(fold)+'/test_data_'+month+'.csv.gz')\n",
    "    test_output = np.array(test_input['PM25_Concentration'])\n",
    "    train_output = np.array(train_input['PM25_Concentration'])\n",
    "    train_input= train_input.drop(['station_id','PM25_Concentration','time','filled'],axis=1)\n",
    "    try:\n",
    "        test_input= test_input.drop(['PM25_Concentration','station_id','time','filled'],axis=1)\n",
    "    except:\n",
    "        test_input= test_input.drop(['station_id','time','filled'],axis=1)\n",
    "#     test_output= test_output.drop(['time'],axis=1)\n",
    "    if with_scaling:\n",
    "        scaler = MinMaxScaler().fit(train_input)\n",
    "        train_input = scaler.transform(train_input)\n",
    "        test_input = scaler.transform(test_input)\n",
    "    return train_input,train_output,test_input,test_output\n",
    "\n",
    "def run_model(model,train_input,train_output,test_input,test_output,ret_output):\n",
    "    model.fit(np.array(train_input), train_output)\n",
    "    test_pred = model.predict(np.array(test_input))\n",
    "    err = mean_squared_error(test_pred, test_output, squared=False)\n",
    "    if ret_output:\n",
    "        return err,test_pred\n",
    "    else:\n",
    "        return err"
   ]
  },
  {
   "cell_type": "markdown",
   "metadata": {},
   "source": [
    "### With scaling"
   ]
  },
  {
   "cell_type": "code",
   "execution_count": 5,
   "metadata": {},
   "outputs": [
    {
     "name": "stdout",
     "output_type": "stream",
     "text": [
      "Fold:  0\n",
      "Data received\n",
      "RMSE:  38.091937561028885\n",
      "Time taken:  2.9904239177703857\n",
      "Fold:  1\n",
      "Data received\n",
      "RMSE:  38.85355585774534\n",
      "Time taken:  2.989856004714966\n",
      "Fold:  2\n",
      "Data received\n",
      "RMSE:  37.02358293230134\n",
      "Time taken:  3.007683515548706\n"
     ]
    }
   ],
   "source": [
    "for fold in [0,1,2]:\n",
    "    train_input,train_output,test_input,test_output = return_data(fold=fold,month='mar',with_scaling=True)\n",
    "    print(\"Fold: \",fold)\n",
    "    print(\"Data received\")\n",
    "    init = time()\n",
    "    rmse,test_pred = run_model(model,train_input,train_output,test_input,test_output,True)\n",
    "    print(\"RMSE: \",rmse)\n",
    "    print(\"Time taken: \",time()-init)\n",
    "    test_input = pd.read_csv('../data/time_feature'+'/fold'+str(fold)+'/test_data_'+'mar'+'.csv.gz')\n",
    "    test_input['prediction']= test_pred\n",
    "    test_input.to_csv('../data/'+'results/results_mar'+'/fold'+str(fold)+'/KNN_scaled.csv.gz')"
   ]
  },
  {
   "cell_type": "markdown",
   "metadata": {},
   "source": [
    "### Without scaling"
   ]
  },
  {
   "cell_type": "code",
   "execution_count": 5,
   "metadata": {},
   "outputs": [
    {
     "name": "stdout",
     "output_type": "stream",
     "text": [
      "Fold:  0\n",
      "Data received\n",
      "RMSE:  52.446787418382755\n",
      "Time taken:  418.717502117157\n",
      "Fold:  1\n",
      "Data received\n",
      "RMSE:  56.71980590215274\n",
      "Time taken:  425.8672125339508\n",
      "Fold:  2\n",
      "Data received\n",
      "RMSE:  53.16574860585825\n",
      "Time taken:  428.7263777256012\n"
     ]
    }
   ],
   "source": [
    "for fold in [0,1,2]:\n",
    "    train_input,train_output,test_input,test_output = return_data(fold=fold,month='mar',with_scaling=False)\n",
    "    print(\"Fold: \",fold)\n",
    "    print(\"Data received\")\n",
    "    init = time()\n",
    "    rmse,test_pred = run_model(model,train_input,train_output,test_input,test_output,True)\n",
    "    print(\"RMSE: \",rmse)\n",
    "    print(\"Time taken: \",time()-init)\n",
    "    test_input = pd.read_csv('../data/processed/'+'/fold_'+str(fold)+'_test_'+'mar'+'.csv.gz')\n",
    "    test_input['prediction']= test_pred\n",
    "    test_input.to_csv('../data/'+'results/results_mar'+'/fold'+str(fold)+'/KNN_nonscaled.csv.gz')"
   ]
  },
  {
   "cell_type": "markdown",
   "metadata": {},
   "source": [
    "### Don't look ahead"
   ]
  },
  {
   "cell_type": "code",
   "execution_count": 12,
   "metadata": {},
   "outputs": [
    {
     "name": "stdout",
     "output_type": "stream",
     "text": [
      "Fold:  2\n",
      "Data received\n",
      "RMSE:  20.854444282158408\n",
      "Time taken:  3.1349098682403564\n"
     ]
    }
   ],
   "source": [
    "fold = 2\n",
    "train_input,train_output,test_input,test_output = return_data(fold=fold,type='time_feature')\n",
    "print(\"Fold: \",fold)\n",
    "print(\"Data received\")\n",
    "# model = KNeighborsRegressor(n_neighbors=3)\n",
    "init = time()\n",
    "print(\"RMSE: \",run_model(model,train_input,train_output,test_input,test_output,False))\n",
    "print(\"Time taken: \",time()-init)\n",
    "# model.get_params()"
   ]
  },
  {
   "cell_type": "markdown",
   "metadata": {},
   "source": [
    "### Auto-regressive data\n"
   ]
  },
  {
   "cell_type": "code",
   "execution_count": 13,
   "metadata": {},
   "outputs": [],
   "source": [
    "model = KNeighborsRegressor(\n",
    "  algorithm= 'auto',\n",
    "  leaf_size= 30,\n",
    "  metric= 'minkowski',\n",
    "  metric_params= None,\n",
    "  n_jobs= None,\n",
    "  n_neighbors= 5,\n",
    "  p= 2,\n",
    "  weights=  'uniform'\n",
    ")"
   ]
  },
  {
   "cell_type": "code",
   "execution_count": 51,
   "metadata": {},
   "outputs": [
    {
     "name": "stdout",
     "output_type": "stream",
     "text": [
      "Fold:  0\n",
      "Data received\n",
      "RMSE:  40.53266467700296\n",
      "Time taken:  2.93772029876709\n"
     ]
    }
   ],
   "source": [
    "fold = 0\n",
    "train_input,train_output,test_input,test_output = return_data(fold=fold,type='auto_regressive')\n",
    "print(\"Fold: \",fold)\n",
    "print(\"Data received\")\n",
    "# model = KNeighborsRegressor(n_neighbors=3)\n",
    "init = time()\n",
    "rmse, test_pred = run_model(model,train_input,train_output,test_input,test_output,True)\n",
    "print(\"RMSE: \",rmse)\n",
    "print(\"Time taken: \",time()-init)\n",
    "# model.get_params()"
   ]
  },
  {
   "cell_type": "code",
   "execution_count": 52,
   "metadata": {},
   "outputs": [
    {
     "name": "stdout",
     "output_type": "stream",
     "text": [
      "1003 22.019695770822747\n",
      "1006 16.94071944637388\n",
      "1012 38.396163242678526\n",
      "1014 18.30274549115837\n",
      "1017 54.73280998994597\n",
      "1023 63.93657413583068\n",
      "1028 22.97013637583794\n",
      "1029 40.57051843314697\n",
      "1031 43.334878296856935\n",
      "1033 35.6878846282579\n",
      "1035 55.51628791269157\n"
     ]
    }
   ],
   "source": [
    "test_input = pd.read_csv('../data/'+'auto_regressive'+'/fold'+str(fold)+'/test_data_month.csv.gz')\n",
    "test_output = pd.read_csv('../data/'+'auto_regressive'+'/fold'+str(fold)+'/test_output_month.csv.gz')\n",
    "test_output= test_output.drop(['time'],axis=1)\n",
    "stationids = test_input.station_id.unique()\n",
    "for station in stationids:\n",
    "    rows = test_input[test_input['station_id']==station].index\n",
    "    err = mean_squared_error(np.array(test_pred)[rows], np.array(test_output)[rows], squared=False)\n",
    "    print(station,err)"
   ]
  },
  {
   "cell_type": "code",
   "execution_count": 38,
   "metadata": {},
   "outputs": [
    {
     "name": "stdout",
     "output_type": "stream",
     "text": [
      "Fold:  1\n",
      "Data received\n",
      "RMSE:  144.95746424823093\n",
      "Time taken:  2.7877166271209717\n"
     ]
    }
   ],
   "source": [
    "fold = 1\n",
    "train_input,train_output,test_input,test_output = return_data(fold=fold,type='auto_regressive')\n",
    "print(\"Fold: \",fold)\n",
    "print(\"Data received\")\n",
    "# model = KNeighborsRegressor(n_neighbors=3)\n",
    "init = time()\n",
    "rmse, test_pred = run_model(model,train_input,train_output,test_input,test_output,True)\n",
    "print(\"RMSE: \",rmse)\n",
    "print(\"Time taken: \",time()-init)\n",
    "# model.get_params()"
   ]
  },
  {
   "cell_type": "code",
   "execution_count": 39,
   "metadata": {},
   "outputs": [
    {
     "name": "stdout",
     "output_type": "stream",
     "text": [
      "1002 21.088510061485298\n",
      "1005 32.585691433053654\n",
      "1007 17.41470200572073\n",
      "1010 18.848403136495726\n",
      "1018 31.669943964466714\n",
      "1022 19.98932459385624\n",
      "1024 63.33232975713391\n",
      "1026 26.615981543357414\n",
      "1030 66.52885383682296\n",
      "1036 444.31243108424167\n"
     ]
    }
   ],
   "source": [
    "test_input = pd.read_csv('../data/'+'auto_regressive'+'/fold'+str(fold)+'/test_data_month.csv.gz')\n",
    "test_output = pd.read_csv('../data/'+'auto_regressive'+'/fold'+str(fold)+'/test_output_month.csv.gz')\n",
    "test_output= test_output.drop(['time'],axis=1)\n",
    "stationids = test_input.station_id.unique()\n",
    "for station in stationids:\n",
    "    rows = test_input[test_input['station_id']==station].index\n",
    "    err = mean_squared_error(np.array(test_pred)[rows], np.array(test_output)[rows], squared=False)\n",
    "    print(station,err)"
   ]
  },
  {
   "cell_type": "code",
   "execution_count": 40,
   "metadata": {},
   "outputs": [
    {
     "data": {
      "text/plain": [
       "Text(0, 0.5, 'AQ Value')"
      ]
     },
     "execution_count": 40,
     "metadata": {},
     "output_type": "execute_result"
    },
    {
     "data": {
      "image/png": "[encoded data removed]",
      "text/plain": [
       "<Figure size 432x288 with 1 Axes>"
      ]
     },
     "metadata": {
      "needs_background": "light"
     },
     "output_type": "display_data"
    }
   ],
   "source": [
    "test_input = pd.read_csv('../data/'+'auto_regressive'+'/fold'+str(fold)+'/test_data_month.csv.gz')\n",
    "test_output = pd.read_csv('../data/'+'auto_regressive'+'/fold'+str(fold)+'/test_output_month.csv.gz')\n",
    "test_output= test_output.drop(['time'],axis=1)\n",
    "rows = test_input[test_input['station_id']==1036].index\n",
    "a = plt.scatter(range(len(np.array(test_pred)[rows])),np.array(test_pred)[rows],c='r',alpha=0.08)\n",
    "b = plt.scatter(range(len(np.array(test_output)[rows])),np.array(test_output)[rows],c='b',alpha=0.08)\n",
    "plt.legend((a,b),('predicted','true'))\n",
    "plt.title(\"Station: 1036, Fold:1\")\n",
    "plt.xlabel(\"Hour\")\n",
    "plt.ylabel(\"AQ Value\")"
   ]
  },
  {
   "cell_type": "code",
   "execution_count": 34,
   "metadata": {},
   "outputs": [
    {
     "name": "stdout",
     "output_type": "stream",
     "text": [
      "Fold:  2\n",
      "Data received\n",
      "RMSE:  97.40974920560699\n",
      "Time taken:  2.7490932941436768\n"
     ]
    }
   ],
   "source": [
    "fold = 2\n",
    "train_input,train_output,test_input,test_output = return_data(fold=fold,type='auto_regressive')\n",
    "print(\"Fold: \",fold)\n",
    "print(\"Data received\")\n",
    "# model = KNeighborsRegressor(n_neighbors=3)\n",
    "init = time()\n",
    "rmse, test_pred = run_model(model,train_input,train_output,test_input,test_output,True)\n",
    "print(\"RMSE: \",rmse)\n",
    "print(\"Time taken: \",time()-init)\n",
    "# model.get_params()"
   ]
  },
  {
   "cell_type": "code",
   "execution_count": 35,
   "metadata": {},
   "outputs": [
    {
     "name": "stdout",
     "output_type": "stream",
     "text": [
      "1001 23.946698080606843\n",
      "1004 17.116695874227535\n",
      "1008 19.45083333445652\n",
      "1011 27.2219404874336\n",
      "1016 15.104077315919811\n",
      "1019 49.08112709897209\n",
      "1025 25.423187131774142\n",
      "1027 78.08556652450989\n",
      "1032 44.281791649700644\n",
      "1034 285.58560259771974\n"
     ]
    }
   ],
   "source": [
    "test_input = pd.read_csv('../data/'+'auto_regressive'+'/fold'+str(fold)+'/test_data_month.csv.gz')\n",
    "test_output = pd.read_csv('../data/'+'auto_regressive'+'/fold'+str(fold)+'/test_output_month.csv.gz')\n",
    "test_output= test_output.drop(['time'],axis=1)\n",
    "stationids = test_input.station_id.unique()\n",
    "for station in stationids:\n",
    "    rows = test_input[test_input['station_id']==station].index\n",
    "    err = mean_squared_error(np.array(test_pred)[rows], np.array(test_output)[rows], squared=False)\n",
    "    print(station,err)"
   ]
  },
  {
   "cell_type": "code",
   "execution_count": 37,
   "metadata": {},
   "outputs": [
    {
     "data": {
      "text/plain": [
       "Text(0, 0.5, 'AQ Value')"
      ]
     },
     "execution_count": 37,
     "metadata": {},
     "output_type": "execute_result"
    },
    {
     "data": {
      "image/png": "[encoded data removed]",
      "text/plain": [
       "<Figure size 432x288 with 1 Axes>"
      ]
     },
     "metadata": {
      "needs_background": "light"
     },
     "output_type": "display_data"
    }
   ],
   "source": [
    "test_input = pd.read_csv('../data/'+'auto_regressive'+'/fold'+str(fold)+'/test_data_month.csv.gz')\n",
    "test_output = pd.read_csv('../data/'+'auto_regressive'+'/fold'+str(fold)+'/test_output_month.csv.gz')\n",
    "test_output= test_output.drop(['time'],axis=1)\n",
    "rows = test_input[test_input['station_id']==1034].index\n",
    "a = plt.scatter(range(len(np.array(test_pred)[rows])),np.array(test_pred)[rows],c='r',alpha=0.08)\n",
    "b = plt.scatter(range(len(np.array(test_output)[rows])),np.array(test_output)[rows],c='b',alpha=0.08)\n",
    "plt.legend((a,b),('predicted','true'))\n",
    "plt.title(\"Station: 1034, Fold:2\")\n",
    "plt.xlabel(\"Hour\")\n",
    "plt.ylabel(\"AQ Value\")"
   ]
  }
 ],
 "metadata": {
  "kernelspec": {
   "display_name": "Python 3",
   "language": "python",
   "name": "python3"
  },
  "language_info": {
   "codemirror_mode": {
    "name": "ipython",
    "version": 3
   },
   "file_extension": ".py",
   "mimetype": "text/x-python",
   "name": "python",
   "nbconvert_exporter": "python",
   "pygments_lexer": "ipython3",
   "version": "3.6.9"
  }
 },
 "nbformat": 4,
 "nbformat_minor": 2
}
