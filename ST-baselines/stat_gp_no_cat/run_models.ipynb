{
 "cells": [
  {
   "cell_type": "code",
   "execution_count": 1,
   "source": [
    "DATA = \"march\" # or \"prev\""
   ],
   "outputs": [],
   "metadata": {}
  },
  {
   "cell_type": "markdown",
   "source": [
    "- python train.py [Fold] [Kernel] [Random_state] [DATA] \r\n",
    "\r\n",
    "- python test.py [Fold] [Kernel] [Best-Model-Path] [DATA] \r\n",
    "\r\n",
    "\r\n",
    "# RBF"
   ],
   "metadata": {}
  },
  {
   "cell_type": "code",
   "execution_count": 11,
   "source": [
    "for i in range(3):\r\n",
    "    !python train.py 0 rbf {i} {DATA}"
   ],
   "outputs": [
    {
     "output_type": "stream",
     "name": "stdout",
     "text": [
      "Fold:  0\n",
      "Random State:  0\n",
      "100%|█████████████████████████████████████████| 400/400 [01:03<00:00,  6.32it/s]\n",
      "Loss:  95.59767150878906\n",
      "RMSE:  37.788276466433835\n",
      "Fold:  0\n",
      "Random State:  1\n",
      "100%|█████████████████████████████████████████| 400/400 [01:03<00:00,  6.31it/s]\n",
      "Loss:  127.07063293457031\n",
      "RMSE:  38.393663357846286\n",
      "Fold:  0\n",
      "Random State:  2\n",
      "100%|█████████████████████████████████████████| 400/400 [01:03<00:00,  6.31it/s]\n",
      "Loss:  119.06267547607422\n",
      "RMSE:  39.268741703848505\n"
     ]
    }
   ],
   "metadata": {}
  },
  {
   "cell_type": "code",
   "execution_count": 12,
   "source": [
    "for i in range(3):\r\n",
    "    !python train.py 1 rbf {i} {DATA}"
   ],
   "outputs": [
    {
     "output_type": "stream",
     "name": "stdout",
     "text": [
      "Fold:  1\n",
      "Random State:  0\n",
      "100%|█████████████████████████████████████████| 400/400 [01:03<00:00,  6.31it/s]\n",
      "Loss:  98.9638900756836\n",
      "RMSE:  49.547766112250045\n",
      "Fold:  1\n",
      "Random State:  1\n",
      "100%|█████████████████████████████████████████| 400/400 [01:03<00:00,  6.34it/s]\n",
      "Loss:  133.05599975585938\n",
      "RMSE:  47.24333206284662\n",
      "Fold:  1\n",
      "Random State:  2\n",
      "100%|█████████████████████████████████████████| 400/400 [01:03<00:00,  6.29it/s]\n",
      "Loss:  124.73531341552734\n",
      "RMSE:  46.834052011022486\n"
     ]
    }
   ],
   "metadata": {}
  },
  {
   "cell_type": "code",
   "execution_count": 13,
   "source": [
    "for i in range(3):\r\n",
    "    !python train.py 2 rbf {i} {DATA}"
   ],
   "outputs": [
    {
     "output_type": "stream",
     "name": "stdout",
     "text": [
      "Fold:  2\n",
      "Random State:  0\n",
      "100%|█████████████████████████████████████████| 400/400 [01:03<00:00,  6.32it/s]\n",
      "Loss:  98.44371795654297\n",
      "RMSE:  39.18576343965728\n",
      "Fold:  2\n",
      "Random State:  1\n",
      "100%|█████████████████████████████████████████| 400/400 [01:03<00:00,  6.28it/s]\n",
      "Loss:  130.23046875\n",
      "RMSE:  39.816814651714274\n",
      "Fold:  2\n",
      "Random State:  2\n",
      "100%|█████████████████████████████████████████| 400/400 [01:03<00:00,  6.33it/s]\n",
      "Loss:  122.74836730957031\n",
      "RMSE:  40.597892012203054\n"
     ]
    }
   ],
   "metadata": {}
  },
  {
   "cell_type": "markdown",
   "source": [
    "# Matern12"
   ],
   "metadata": {}
  },
  {
   "cell_type": "code",
   "execution_count": 23,
   "source": [
    "for i in range(3):\r\n",
    "    !python train.py 0 matern12 {i} {DATA}"
   ],
   "outputs": [
    {
     "output_type": "stream",
     "name": "stdout",
     "text": [
      "Fold:  0\n",
      "Random State:  0\n",
      "100%|█████████████████████████████████████████| 400/400 [01:21<00:00,  4.92it/s]\n",
      "Loss:  36.87507247924805\n",
      "RMSE:  23.763939929331915\n",
      "Fold:  0\n",
      "Random State:  1\n",
      "100%|█████████████████████████████████████████| 400/400 [01:22<00:00,  4.84it/s]\n",
      "Loss:  58.97638702392578\n",
      "RMSE:  23.69378629463355\n",
      "Fold:  0\n",
      "Random State:  2\n",
      "100%|█████████████████████████████████████████| 400/400 [01:21<00:00,  4.88it/s]\n",
      "Loss:  52.52491760253906\n",
      "RMSE:  24.133128159398446\n"
     ]
    }
   ],
   "metadata": {}
  },
  {
   "cell_type": "code",
   "execution_count": 24,
   "source": [
    "for i in range(1):\r\n",
    "    !python train.py 1 matern12 {i} {DATA}"
   ],
   "outputs": [
    {
     "output_type": "stream",
     "name": "stdout",
     "text": [
      "Fold:  1\n",
      "Random State:  0\n",
      "100%|█████████████████████████████████████████| 400/400 [01:21<00:00,  4.89it/s]\n",
      "Loss:  36.9588623046875\n",
      "RMSE:  26.163400150098543\n"
     ]
    }
   ],
   "metadata": {}
  },
  {
   "cell_type": "code",
   "execution_count": 25,
   "source": [
    "for i in range(1):\r\n",
    "    !python train.py 2 matern12 {i} {DATA}"
   ],
   "outputs": [
    {
     "output_type": "stream",
     "name": "stdout",
     "text": [
      "Fold:  2\n",
      "Random State:  0\n",
      "100%|█████████████████████████████████████████| 400/400 [01:21<00:00,  4.88it/s]\n",
      "Loss:  36.80494689941406\n",
      "RMSE:  25.188503441660355\n"
     ]
    }
   ],
   "metadata": {}
  },
  {
   "cell_type": "markdown",
   "source": [
    "# Matern32"
   ],
   "metadata": {}
  },
  {
   "cell_type": "code",
   "execution_count": 19,
   "source": [
    "for i in range(3):\r\n",
    "    !python train.py 0 matern32 {i} {DATA}"
   ],
   "outputs": [
    {
     "output_type": "stream",
     "name": "stdout",
     "text": [
      "Fold:  0\n",
      "Random State:  0\n",
      "100%|█████████████████████████████████████████| 400/400 [01:15<00:00,  5.27it/s]\n",
      "Loss:  80.84425354003906\n",
      "RMSE:  36.44012066979096\n",
      "Fold:  0\n",
      "Random State:  1\n",
      "100%|█████████████████████████████████████████| 400/400 [01:15<00:00,  5.26it/s]\n",
      "Loss:  116.85900115966797\n",
      "RMSE:  37.43356569493485\n",
      "Fold:  0\n",
      "Random State:  2\n",
      "100%|█████████████████████████████████████████| 400/400 [01:15<00:00,  5.28it/s]\n",
      "Loss:  110.75006866455078\n",
      "RMSE:  38.340028961798204\n"
     ]
    }
   ],
   "metadata": {}
  },
  {
   "cell_type": "code",
   "execution_count": 20,
   "source": [
    "for i in range(3):\r\n",
    "    !python train.py 1 matern32 {i} {DATA}"
   ],
   "outputs": [
    {
     "output_type": "stream",
     "name": "stdout",
     "text": [
      "Fold:  1\n",
      "Random State:  0\n",
      "100%|█████████████████████████████████████████| 400/400 [01:16<00:00,  5.25it/s]\n",
      "Loss:  84.01675415039062\n",
      "RMSE:  44.1776088626254\n",
      "Fold:  1\n",
      "Random State:  1\n",
      "100%|█████████████████████████████████████████| 400/400 [01:15<00:00,  5.28it/s]\n",
      "Loss:  122.46861267089844\n",
      "RMSE:  42.84193880823613\n",
      "Fold:  1\n",
      "Random State:  2\n",
      "100%|█████████████████████████████████████████| 400/400 [01:15<00:00,  5.28it/s]\n",
      "Loss:  116.0630874633789\n",
      "RMSE:  42.398329897057344\n"
     ]
    }
   ],
   "metadata": {}
  },
  {
   "cell_type": "code",
   "execution_count": 21,
   "source": [
    "for i in range(3):\r\n",
    "    !python train.py 2 matern32 {i} {DATA}"
   ],
   "outputs": [
    {
     "output_type": "stream",
     "name": "stdout",
     "text": [
      "Fold:  2\n",
      "Random State:  0\n",
      "100%|█████████████████████████████████████████| 400/400 [01:15<00:00,  5.28it/s]\n",
      "Loss:  83.31896209716797\n",
      "RMSE:  36.92540378742489\n",
      "Fold:  2\n",
      "Random State:  1\n",
      "100%|█████████████████████████████████████████| 400/400 [01:15<00:00,  5.27it/s]\n",
      "Loss:  120.51886749267578\n",
      "RMSE:  37.7904018869487\n",
      "Fold:  2\n",
      "Random State:  2\n",
      "100%|█████████████████████████████████████████| 400/400 [01:15<00:00,  5.28it/s]\n",
      "Loss:  114.47006225585938\n",
      "RMSE:  38.5746025455807\n"
     ]
    }
   ],
   "metadata": {}
  },
  {
   "cell_type": "markdown",
   "source": [
    "# Matern52"
   ],
   "metadata": {}
  },
  {
   "cell_type": "code",
   "execution_count": 47,
   "source": [
    "for i in [8]:\r\n",
    "    !python train.py 0 matern52 {i} {DATA}"
   ],
   "outputs": [
    {
     "output_type": "stream",
     "name": "stdout",
     "text": [
      "Fold:  0\n",
      "Random State:  8\n",
      "100%|█████████████████████████████████████████| 400/400 [01:48<00:00,  3.69it/s]\n",
      "Loss:  64.68551635742188\n",
      "RMSE:  24.106531594648022\n"
     ]
    }
   ],
   "metadata": {}
  },
  {
   "cell_type": "code",
   "execution_count": 48,
   "source": [
    "for i in [1]:\r\n",
    "    !python train.py 1 matern52 {i} {DATA}"
   ],
   "outputs": [
    {
     "output_type": "stream",
     "name": "stdout",
     "text": [
      "Fold:  1\n",
      "Random State:  1\n",
      "100%|█████████████████████████████████████████| 400/400 [01:48<00:00,  3.68it/s]\n",
      "Loss:  91.060302734375\n",
      "RMSE:  28.64730254052854\n"
     ]
    }
   ],
   "metadata": {}
  },
  {
   "cell_type": "code",
   "execution_count": 46,
   "source": [
    "for i in range(1):\r\n",
    "    !python train.py 2 matern52 {i} {DATA}"
   ],
   "outputs": [
    {
     "output_type": "stream",
     "name": "stdout",
     "text": [
      "Fold:  2\n",
      "Random State:  0\n",
      "100%|█████████████████████████████████████████| 400/400 [01:48<00:00,  3.70it/s]\n",
      "Loss:  54.811153411865234\n",
      "RMSE:  25.932248269404244\n"
     ]
    }
   ],
   "metadata": {}
  },
  {
   "cell_type": "markdown",
   "source": [
    "# Matern+Rbf"
   ],
   "metadata": {}
  },
  {
   "cell_type": "code",
   "execution_count": 36,
   "source": [
    "for i in range(1):\r\n",
    "    !python train.py 0 matern_rbf {i} {DATA}"
   ],
   "outputs": [
    {
     "output_type": "stream",
     "name": "stdout",
     "text": [
      "Fold:  0\n",
      "Random State:  0\n",
      "100%|█████████████████████████████████████████| 400/400 [01:36<00:00,  4.15it/s]\n",
      "Loss:  51.68968963623047\n",
      "RMSE:  35.40558784464104\n"
     ]
    }
   ],
   "metadata": {}
  },
  {
   "cell_type": "code",
   "execution_count": 37,
   "source": [
    "for i in range(1):\r\n",
    "    !python train.py 1 matern_rbf {i} {DATA}"
   ],
   "outputs": [
    {
     "output_type": "stream",
     "name": "stdout",
     "text": [
      "Fold:  1\n",
      "Random State:  0\n",
      " 66%|██████████████████████████▊              | 262/400 [01:03<00:32,  4.24it/s]Early stopping\n",
      " 66%|██████████████████████████▊              | 262/400 [01:03<00:33,  4.10it/s]\n",
      "Loss:  65.31652069091797\n",
      "RMSE:  39.69504642436942\n"
     ]
    }
   ],
   "metadata": {}
  },
  {
   "cell_type": "code",
   "execution_count": 38,
   "source": [
    "for i in range(1):\r\n",
    "    !python train.py 2 matern_rbf {i} {DATA}"
   ],
   "outputs": [
    {
     "output_type": "stream",
     "name": "stdout",
     "text": [
      "Fold:  2\n",
      "Random State:  0\n",
      "100%|█████████████████████████████████████████| 400/400 [01:35<00:00,  4.18it/s]\n",
      "Loss:  53.060482025146484\n",
      "RMSE:  34.31517987053381\n"
     ]
    }
   ],
   "metadata": {}
  },
  {
   "cell_type": "markdown",
   "source": [
    "# Matern*Rbf"
   ],
   "metadata": {}
  },
  {
   "cell_type": "code",
   "execution_count": 39,
   "source": [
    "for i in range(1):\r\n",
    "    !python train.py 0 maternXrbf {i} {DATA}"
   ],
   "outputs": [
    {
     "output_type": "stream",
     "name": "stdout",
     "text": [
      "Fold:  0\n",
      "Random State:  0\n",
      "100%|█████████████████████████████████████████| 400/400 [01:40<00:00,  3.98it/s]\n",
      "Loss:  105.36382293701172\n",
      "RMSE:  37.8294837421403\n"
     ]
    }
   ],
   "metadata": {}
  },
  {
   "cell_type": "code",
   "execution_count": 40,
   "source": [
    "for i in range(1):\r\n",
    "    !python train.py 1 maternXrbf {i} {DATA}"
   ],
   "outputs": [
    {
     "output_type": "stream",
     "name": "stdout",
     "text": [
      "Fold:  1\n",
      "Random State:  0\n",
      "100%|█████████████████████████████████████████| 400/400 [01:40<00:00,  3.98it/s]\n",
      "Loss:  110.00485229492188\n",
      "RMSE:  46.02174727223512\n"
     ]
    }
   ],
   "metadata": {}
  },
  {
   "cell_type": "code",
   "execution_count": 41,
   "source": [
    "for i in range(1):\r\n",
    "    !python train.py 2 maternXrbf {i} {DATA}"
   ],
   "outputs": [
    {
     "output_type": "stream",
     "name": "stdout",
     "text": [
      "Fold:  2\n",
      "Random State:  0\n",
      "100%|█████████████████████████████████████████| 400/400 [01:40<00:00,  3.98it/s]\n",
      "Loss:  106.90682983398438\n",
      "RMSE:  39.36334184754953\n"
     ]
    }
   ],
   "metadata": {}
  },
  {
   "cell_type": "code",
   "execution_count": 39,
   "source": [
    "!python test.py 0 rbf \"final_models/march_data/rbf_fold_0_random_state_0\" march\r\n",
    "!python test.py 1 rbf \"final_models/march_data/rbf_fold_1_random_state_1\" march\r\n",
    "!python test.py 2 rbf \"final_models/march_data/rbf_fold_2_random_state_0\" march\r\n",
    "\r\n",
    "!python test.py 0 matern12 \"final_models/march_data/matern12_fold_0_random_state_8\" march\r\n",
    "!python test.py 1 matern12 \"final_models/march_data/matern12_fold_1_random_state_9\" march\r\n",
    "!python test.py 2 matern12 \"final_models/march_data/matern12_fold_2_random_state_0\" march\r\n",
    "\r\n",
    "!python test.py 0 matern32 \"final_models/march_data/matern32_fold_0_random_state_8\" march\r\n",
    "!python test.py 1 matern32 \"final_models/march_data/matern32_fold_1_random_state_9\" march\r\n",
    "!python test.py 2 matern32 \"final_models/march_data/matern32_fold_2_random_state_0\" march\r\n",
    "\r\n",
    "!python test.py 0 matern52 \"final_models/march_data/matern52_fold_0_random_state_8\" march\r\n",
    "!python test.py 1 matern52 \"final_models/march_data/matern52_fold_1_random_state_1\" march\r\n",
    "!python test.py 2 matern52 \"final_models/march_data/matern52_fold_2_random_state_0\" march\r\n",
    "\r\n",
    "!python test.py 0 matern_rbf \"final_models/march_data/matern_rbf_fold_0_random_state_0\" march\r\n",
    "!python test.py 1 matern_rbf \"final_models/march_data/matern_rbf_fold_1_random_state_0\" march\r\n",
    "!python test.py 2 matern_rbf \"final_models/march_data/matern_rbf_fold_2_random_state_0\" march\r\n",
    "\r\n",
    "!python test.py 0 maternXrbf \"final_models/march_data/maternXrbf_fold_0_random_state_0\" march\r\n",
    "!python test.py 1 maternXrbf \"final_models/march_data/maternXrbf_fold_1_random_state_0\" march\r\n",
    "!python test.py 2 maternXrbf \"final_models/march_data/maternXrbf_fold_2_random_state_0\" march"
   ],
   "outputs": [
    {
     "output_type": "stream",
     "name": "stdout",
     "text": [
      "Fold:  0\n",
      "Data received\n",
      "RMSE:  25.176939496415933\n",
      "30.315013885498047\n",
      "Fold:  1\n",
      "Data received\n",
      "RMSE:  30.270843600669483\n",
      "47.535396575927734\n",
      "Fold:  2\n",
      "Data received\n",
      "RMSE:  26.41725059551385\n",
      "29.52050018310547\n",
      "Fold:  0\n",
      "Data received\n",
      "RMSE:  24.165682804071785\n",
      "14.335278511047363\n",
      "Fold:  1\n",
      "Data received\n",
      "RMSE:  26.649889229851766\n",
      "21.205848693847656\n",
      "Fold:  2\n",
      "Data received\n",
      "RMSE:  27.03131618611529\n",
      "9.655587196350098\n",
      "Fold:  0\n",
      "Data received\n",
      "RMSE:  23.39121079091886\n",
      "21.215749740600586\n",
      "Fold:  1\n",
      "Data received\n",
      "RMSE:  27.329625499041423\n",
      "28.214588165283203\n",
      "Fold:  2\n",
      "Data received\n",
      "RMSE:  25.99589387881733\n",
      "18.72560691833496\n",
      "Fold:  0\n",
      "Data received\n",
      "RMSE:  24.106531594648022\n",
      "25.235517501831055\n",
      "Fold:  1\n",
      "Data received\n",
      "RMSE:  28.64730254052854\n",
      "38.26065444946289\n",
      "Fold:  2\n",
      "Data received\n",
      "RMSE:  25.932248269404244\n",
      "21.20368766784668\n",
      "^C\n",
      "Traceback (most recent call last):\n",
      "  File \"test.py\", line 6, in <module>\n",
      "    import gpytorch\n",
      "  File \"/opt/conda/lib/python3.7/site-packages/gpytorch/__init__.py\", line 2, in <module>\n",
      "    from . import (\n",
      "  File \"/opt/conda/lib/python3.7/site-packages/gpytorch/distributions/__init__.py\", line 3, in <module>\n",
      "    from .delta import Delta\n",
      "  File \"/opt/conda/lib/python3.7/site-packages/gpytorch/distributions/delta.py\", line 10, in <module>\n",
      "    from .multivariate_normal import MultivariateNormal\n",
      "  File \"/opt/conda/lib/python3.7/site-packages/gpytorch/distributions/multivariate_normal.py\", line 12, in <module>\n",
      "    from ..lazy import DiagLazyTensor, LazyTensor, RootLazyTensor, delazify, lazify\n",
      "  File \"/opt/conda/lib/python3.7/site-packages/gpytorch/lazy/__init__.py\", line 3, in <module>\n",
      "    from .added_diag_lazy_tensor import AddedDiagLazyTensor\n",
      "  File \"/opt/conda/lib/python3.7/site-packages/gpytorch/lazy/added_diag_lazy_tensor.py\", line 10, in <module>\n",
      "    from ..utils import broadcasting, pivoted_cholesky\n",
      "  File \"/opt/conda/lib/python3.7/site-packages/gpytorch/utils/__init__.py\", line 4, in <module>\n",
      "    from .contour_integral_quad import contour_integral_quad\n",
      "  File \"/opt/conda/lib/python3.7/site-packages/gpytorch/utils/contour_integral_quad.py\", line 8, in <module>\n",
      "    from .linear_cg import linear_cg\n",
      "  File \"/opt/conda/lib/python3.7/site-packages/gpytorch/utils/linear_cg.py\", line 8, in <module>\n",
      "    from .deprecation import bool_compat\n",
      "  File \"/opt/conda/lib/python3.7/site-packages/gpytorch/utils/deprecation.py\", line 5, in <module>\n",
      "    from unittest.mock import MagicMock\n",
      "  File \"/opt/conda/lib/python3.7/unittest/__init__.py\", line 64, in <module>\n",
      "    from .main import TestProgram, main\n",
      "  File \"/opt/conda/lib/python3.7/unittest/main.py\", line 4, in <module>\n",
      "    import argparse\n",
      "  File \"/opt/conda/lib/python3.7/argparse.py\", line 90, in <module>\n",
      "    from gettext import gettext as _, ngettext\n",
      "  File \"/opt/conda/lib/python3.7/gettext.py\", line 84, in <module>\n",
      "    \"\"\", re.VERBOSE|re.DOTALL)\n",
      "  File \"/opt/conda/lib/python3.7/enum.py\", line 838, in __or__\n",
      "    result = self.__class__(self._value_ | self.__class__(other)._value_)\n",
      "  File \"/opt/conda/lib/python3.7/enum.py\", line 315, in __call__\n",
      "    return cls.__new__(cls, value)\n",
      "  File \"/opt/conda/lib/python3.7/enum.py\", line 553, in __new__\n",
      "    result = cls._missing_(value)\n",
      "  File \"/opt/conda/lib/python3.7/enum.py\", line 802, in _missing_\n",
      "    new_member = cls._create_pseudo_member_(value)\n",
      "  File \"/opt/conda/lib/python3.7/enum.py\", line 811, in _create_pseudo_member_\n",
      "    _, extra_flags = _decompose(cls, value)\n",
      "  File \"/opt/conda/lib/python3.7/enum.py\", line 896, in _decompose\n",
      "    for v, m in list(flag._value2member_map_.items())\n",
      "  File \"/opt/conda/lib/python3.7/enum.py\", line 897, in <listcomp>\n",
      "    if m.name is not None or _power_of_two(v)\n",
      "  File \"/opt/conda/lib/python3.7/types.py\", line 171, in __get__\n",
      "    return self.fget(instance)\n",
      "  File \"/opt/conda/lib/python3.7/enum.py\", line 631, in name\n",
      "    return self._name_\n",
      "KeyboardInterrupt\n",
      "^C\n",
      "Traceback (most recent call last):\n",
      "  File \"test.py\", line 7, in <module>\n",
      "    from matplotlib import pyplot as plt\n",
      "  File \"/opt/conda/lib/python3.7/site-packages/matplotlib/pyplot.py\", line 2500, in <module>\n",
      "    switch_backend(rcParams[\"backend\"])\n",
      "  File \"/opt/conda/lib/python3.7/site-packages/matplotlib/pyplot.py\", line 277, in switch_backend\n",
      "    class backend_mod(matplotlib.backend_bases._Backend):\n",
      "  File \"/opt/conda/lib/python3.7/site-packages/matplotlib/pyplot.py\", line 278, in backend_mod\n",
      "    locals().update(vars(importlib.import_module(backend_name)))\n",
      "  File \"/opt/conda/lib/python3.7/importlib/__init__.py\", line 127, in import_module\n",
      "    return _bootstrap._gcd_import(name[level:], package, level)\n",
      "  File \"/opt/conda/lib/python3.7/site-packages/matplotlib_inline/backend_inline.py\", line 15, in <module>\n",
      "    from IPython.core.interactiveshell import InteractiveShell\n",
      "  File \"/opt/conda/lib/python3.7/site-packages/IPython/__init__.py\", line 56, in <module>\n",
      "    from .terminal.embed import embed\n",
      "  File \"/opt/conda/lib/python3.7/site-packages/IPython/terminal/embed.py\", line 16, in <module>\n",
      "    from IPython.terminal.interactiveshell import TerminalInteractiveShell\n",
      "  File \"/opt/conda/lib/python3.7/site-packages/IPython/terminal/interactiveshell.py\", line 19, in <module>\n",
      "    from prompt_toolkit.enums import DEFAULT_BUFFER, EditingMode\n",
      "  File \"/opt/conda/lib/python3.7/site-packages/prompt_toolkit/__init__.py\", line 16, in <module>\n",
      "    from .application import Application\n",
      "  File \"/opt/conda/lib/python3.7/site-packages/prompt_toolkit/application/__init__.py\", line 1, in <module>\n",
      "    from .application import Application\n",
      "  File \"/opt/conda/lib/python3.7/site-packages/prompt_toolkit/application/application.py\", line 41, in <module>\n",
      "    from prompt_toolkit.buffer import Buffer\n",
      "  File \"/opt/conda/lib/python3.7/site-packages/prompt_toolkit/buffer.py\", line 46, in <module>\n",
      "    from .search import SearchDirection, SearchState\n",
      "  File \"/opt/conda/lib/python3.7/site-packages/prompt_toolkit/search.py\", line 13, in <module>\n",
      "    from .key_binding.vi_state import InputMode\n",
      "  File \"/opt/conda/lib/python3.7/site-packages/prompt_toolkit/key_binding/__init__.py\", line 1, in <module>\n",
      "    from .key_bindings import (\n",
      "  File \"/opt/conda/lib/python3.7/site-packages/prompt_toolkit/key_binding/key_bindings.py\", line 54, in <module>\n",
      "    from prompt_toolkit.keys import KEY_ALIASES, Keys\n",
      "  File \"/opt/conda/lib/python3.7/site-packages/prompt_toolkit/keys.py\", line 10, in <module>\n",
      "    class Keys(str, Enum):\n",
      "  File \"/opt/conda/lib/python3.7/enum.py\", line 236, in __new__\n",
      "    if canonical_member._value_ == enum_member._value_:\n",
      "KeyboardInterrupt\n",
      "^C\n",
      "Fold:  0\n",
      "Data received\n",
      "^C\n",
      "Traceback (most recent call last):\n",
      "  File \"test.py\", line 89, in <module>\n",
      "    observed_pred = predict(model, test_x) #+ DELTA\n",
      "  File \"test.py\", line 41, in predict\n",
      "    observed_pred = likelihood(model(test_x))\n",
      "  File \"/opt/conda/lib/python3.7/site-packages/gpytorch/models/exact_gp.py\", line 319, in __call__\n",
      "    predictive_mean, predictive_covar = self.prediction_strategy.exact_prediction(full_mean, full_covar)\n",
      "  File \"/opt/conda/lib/python3.7/site-packages/gpytorch/models/exact_prediction_strategies.py\", line 262, in exact_prediction\n",
      "    self.exact_predictive_mean(test_mean, test_train_covar),\n",
      "  File \"/opt/conda/lib/python3.7/site-packages/gpytorch/models/exact_prediction_strategies.py\", line 280, in exact_predictive_mean\n",
      "    res = (test_train_covar @ self.mean_cache.unsqueeze(-1)).squeeze(-1)\n",
      "  File \"/opt/conda/lib/python3.7/site-packages/gpytorch/utils/memoize.py\", line 59, in g\n",
      "    return _add_to_cache(self, cache_name, method(self, *args, **kwargs), *args, kwargs_pkl=kwargs_pkl)\n",
      "  File \"/opt/conda/lib/python3.7/site-packages/gpytorch/models/exact_prediction_strategies.py\", line 229, in mean_cache\n",
      "    mean_cache = train_train_covar.evaluate_kernel().inv_matmul(train_labels_offset).squeeze(-1)\n",
      "  File \"/opt/conda/lib/python3.7/site-packages/gpytorch/lazy/lazy_tensor.py\", line 1175, in inv_matmul\n",
      "    return func.apply(self.representation_tree(), False, right_tensor, *self.representation())\n",
      "  File \"/opt/conda/lib/python3.7/site-packages/gpytorch/functions/_inv_matmul.py\", line 53, in forward\n",
      "    solves = _solve(lazy_tsr, right_tensor)\n",
      "  File \"/opt/conda/lib/python3.7/site-packages/gpytorch/functions/_inv_matmul.py\", line 20, in _solve\n",
      "    preconditioner = lazy_tsr.detach()._inv_matmul_preconditioner()\n",
      "  File \"/opt/conda/lib/python3.7/site-packages/gpytorch/lazy/lazy_tensor.py\", line 448, in _inv_matmul_preconditioner\n",
      "    base_precond, _, _ = self._preconditioner()\n",
      "  File \"/opt/conda/lib/python3.7/site-packages/gpytorch/lazy/added_diag_lazy_tensor.py\", line 107, in _preconditioner\n",
      "    self._init_cache()\n",
      "  File \"/opt/conda/lib/python3.7/site-packages/gpytorch/lazy/added_diag_lazy_tensor.py\", line 130, in _init_cache\n",
      "    self._init_cache_for_constant_diag(eye, batch_shape, n, k)\n",
      "  File \"/opt/conda/lib/python3.7/site-packages/gpytorch/lazy/added_diag_lazy_tensor.py\", line 140, in _init_cache_for_constant_diag\n",
      "    torch.cat((self._piv_chol_self, self._noise.sqrt() * eye), dim=-2)\n",
      "KeyboardInterrupt\n"
     ]
    },
    {
     "output_type": "error",
     "ename": "UnboundLocalError",
     "evalue": "local variable 'child' referenced before assignment",
     "traceback": [
      "\u001b[0;31m---------------------------------------------------------------------------\u001b[0m",
      "\u001b[0;31mKeyboardInterrupt\u001b[0m                         Traceback (most recent call last)",
      "\u001b[0;32m/opt/conda/lib/python3.7/site-packages/IPython/utils/_process_posix.py\u001b[0m in \u001b[0;36msystem\u001b[0;34m(self, cmd)\u001b[0m\n\u001b[1;32m    156\u001b[0m             \u001b[0;32melse\u001b[0m\u001b[0;34m:\u001b[0m\u001b[0;34m\u001b[0m\u001b[0;34m\u001b[0m\u001b[0m\n\u001b[0;32m--> 157\u001b[0;31m                 \u001b[0mchild\u001b[0m \u001b[0;34m=\u001b[0m \u001b[0mpexpect\u001b[0m\u001b[0;34m.\u001b[0m\u001b[0mspawn\u001b[0m\u001b[0;34m(\u001b[0m\u001b[0mself\u001b[0m\u001b[0;34m.\u001b[0m\u001b[0msh\u001b[0m\u001b[0;34m,\u001b[0m \u001b[0margs\u001b[0m\u001b[0;34m=\u001b[0m\u001b[0;34m[\u001b[0m\u001b[0;34m'-c'\u001b[0m\u001b[0;34m,\u001b[0m \u001b[0mcmd\u001b[0m\u001b[0;34m]\u001b[0m\u001b[0;34m)\u001b[0m  \u001b[0;31m# Vanilla Pexpect\u001b[0m\u001b[0;34m\u001b[0m\u001b[0;34m\u001b[0m\u001b[0m\n\u001b[0m\u001b[1;32m    158\u001b[0m             \u001b[0mflush\u001b[0m \u001b[0;34m=\u001b[0m \u001b[0msys\u001b[0m\u001b[0;34m.\u001b[0m\u001b[0mstdout\u001b[0m\u001b[0;34m.\u001b[0m\u001b[0mflush\u001b[0m\u001b[0;34m\u001b[0m\u001b[0;34m\u001b[0m\u001b[0m\n",
      "\u001b[0;32m/opt/conda/lib/python3.7/site-packages/pexpect/pty_spawn.py\u001b[0m in \u001b[0;36m__init__\u001b[0;34m(self, command, args, timeout, maxread, searchwindowsize, logfile, cwd, env, ignore_sighup, echo, preexec_fn, encoding, codec_errors, dimensions, use_poll)\u001b[0m\n\u001b[1;32m    204\u001b[0m         \u001b[0;32melse\u001b[0m\u001b[0;34m:\u001b[0m\u001b[0;34m\u001b[0m\u001b[0;34m\u001b[0m\u001b[0m\n\u001b[0;32m--> 205\u001b[0;31m             \u001b[0mself\u001b[0m\u001b[0;34m.\u001b[0m\u001b[0m_spawn\u001b[0m\u001b[0;34m(\u001b[0m\u001b[0mcommand\u001b[0m\u001b[0;34m,\u001b[0m \u001b[0margs\u001b[0m\u001b[0;34m,\u001b[0m \u001b[0mpreexec_fn\u001b[0m\u001b[0;34m,\u001b[0m \u001b[0mdimensions\u001b[0m\u001b[0;34m)\u001b[0m\u001b[0;34m\u001b[0m\u001b[0;34m\u001b[0m\u001b[0m\n\u001b[0m\u001b[1;32m    206\u001b[0m         \u001b[0mself\u001b[0m\u001b[0;34m.\u001b[0m\u001b[0muse_poll\u001b[0m \u001b[0;34m=\u001b[0m \u001b[0muse_poll\u001b[0m\u001b[0;34m\u001b[0m\u001b[0;34m\u001b[0m\u001b[0m\n",
      "\u001b[0;32m/opt/conda/lib/python3.7/site-packages/pexpect/pty_spawn.py\u001b[0m in \u001b[0;36m_spawn\u001b[0;34m(self, command, args, preexec_fn, dimensions)\u001b[0m\n\u001b[1;32m    303\u001b[0m         self.ptyproc = self._spawnpty(self.args, env=self.env,\n\u001b[0;32m--> 304\u001b[0;31m                                      cwd=self.cwd, **kwargs)\n\u001b[0m\u001b[1;32m    305\u001b[0m \u001b[0;34m\u001b[0m\u001b[0m\n",
      "\u001b[0;32m/opt/conda/lib/python3.7/site-packages/pexpect/pty_spawn.py\u001b[0m in \u001b[0;36m_spawnpty\u001b[0;34m(self, args, **kwargs)\u001b[0m\n\u001b[1;32m    314\u001b[0m         \u001b[0;34m'''Spawn a pty and return an instance of PtyProcess.'''\u001b[0m\u001b[0;34m\u001b[0m\u001b[0;34m\u001b[0m\u001b[0m\n\u001b[0;32m--> 315\u001b[0;31m         \u001b[0;32mreturn\u001b[0m \u001b[0mptyprocess\u001b[0m\u001b[0;34m.\u001b[0m\u001b[0mPtyProcess\u001b[0m\u001b[0;34m.\u001b[0m\u001b[0mspawn\u001b[0m\u001b[0;34m(\u001b[0m\u001b[0margs\u001b[0m\u001b[0;34m,\u001b[0m \u001b[0;34m**\u001b[0m\u001b[0mkwargs\u001b[0m\u001b[0;34m)\u001b[0m\u001b[0;34m\u001b[0m\u001b[0;34m\u001b[0m\u001b[0m\n\u001b[0m\u001b[1;32m    316\u001b[0m \u001b[0;34m\u001b[0m\u001b[0m\n",
      "\u001b[0;32m/opt/conda/lib/python3.7/site-packages/ptyprocess/ptyprocess.py\u001b[0m in \u001b[0;36mspawn\u001b[0;34m(cls, argv, cwd, env, echo, preexec_fn, dimensions, pass_fds)\u001b[0m\n\u001b[1;32m    314\u001b[0m         \u001b[0mos\u001b[0m\u001b[0;34m.\u001b[0m\u001b[0mclose\u001b[0m\u001b[0;34m(\u001b[0m\u001b[0mexec_err_pipe_write\u001b[0m\u001b[0;34m)\u001b[0m\u001b[0;34m\u001b[0m\u001b[0;34m\u001b[0m\u001b[0m\n\u001b[0;32m--> 315\u001b[0;31m         \u001b[0mexec_err_data\u001b[0m \u001b[0;34m=\u001b[0m \u001b[0mos\u001b[0m\u001b[0;34m.\u001b[0m\u001b[0mread\u001b[0m\u001b[0;34m(\u001b[0m\u001b[0mexec_err_pipe_read\u001b[0m\u001b[0;34m,\u001b[0m \u001b[0;36m4096\u001b[0m\u001b[0;34m)\u001b[0m\u001b[0;34m\u001b[0m\u001b[0;34m\u001b[0m\u001b[0m\n\u001b[0m\u001b[1;32m    316\u001b[0m         \u001b[0mos\u001b[0m\u001b[0;34m.\u001b[0m\u001b[0mclose\u001b[0m\u001b[0;34m(\u001b[0m\u001b[0mexec_err_pipe_read\u001b[0m\u001b[0;34m)\u001b[0m\u001b[0;34m\u001b[0m\u001b[0;34m\u001b[0m\u001b[0m\n",
      "\u001b[0;31mKeyboardInterrupt\u001b[0m: ",
      "\nDuring handling of the above exception, another exception occurred:\n",
      "\u001b[0;31mUnboundLocalError\u001b[0m                         Traceback (most recent call last)",
      "\u001b[0;32m/tmp/ipykernel_7538/1355224371.py\u001b[0m in \u001b[0;36m<module>\u001b[0;34m\u001b[0m\n\u001b[1;32m     20\u001b[0m \u001b[0;34m\u001b[0m\u001b[0m\n\u001b[1;32m     21\u001b[0m \u001b[0mget_ipython\u001b[0m\u001b[0;34m(\u001b[0m\u001b[0;34m)\u001b[0m\u001b[0;34m.\u001b[0m\u001b[0msystem\u001b[0m\u001b[0;34m(\u001b[0m\u001b[0;34m'python test.py 0 maternXrbf \"final_models/march_data/maternXrbf_fold_0_random_state_0\" march'\u001b[0m\u001b[0;34m)\u001b[0m\u001b[0;34m\u001b[0m\u001b[0;34m\u001b[0m\u001b[0m\n\u001b[0;32m---> 22\u001b[0;31m \u001b[0mget_ipython\u001b[0m\u001b[0;34m(\u001b[0m\u001b[0;34m)\u001b[0m\u001b[0;34m.\u001b[0m\u001b[0msystem\u001b[0m\u001b[0;34m(\u001b[0m\u001b[0;34m'python test.py 1 maternXrbf \"final_models/march_data/maternXrbf_fold_1_random_state_0\" march'\u001b[0m\u001b[0;34m)\u001b[0m\u001b[0;34m\u001b[0m\u001b[0;34m\u001b[0m\u001b[0m\n\u001b[0m\u001b[1;32m     23\u001b[0m \u001b[0mget_ipython\u001b[0m\u001b[0;34m(\u001b[0m\u001b[0;34m)\u001b[0m\u001b[0;34m.\u001b[0m\u001b[0msystem\u001b[0m\u001b[0;34m(\u001b[0m\u001b[0;34m'python test.py 2 maternXrbf \"final_models/march_data/maternXrbf_fold_2_random_state_0\" march'\u001b[0m\u001b[0;34m)\u001b[0m\u001b[0;34m\u001b[0m\u001b[0;34m\u001b[0m\u001b[0m\n",
      "\u001b[0;32m/opt/conda/lib/python3.7/site-packages/ipykernel/zmqshell.py\u001b[0m in \u001b[0;36msystem_piped\u001b[0;34m(self, cmd)\u001b[0m\n\u001b[1;32m    634\u001b[0m                 \u001b[0mself\u001b[0m\u001b[0;34m.\u001b[0m\u001b[0muser_ns\u001b[0m\u001b[0;34m[\u001b[0m\u001b[0;34m'_exit_code'\u001b[0m\u001b[0;34m]\u001b[0m \u001b[0;34m=\u001b[0m \u001b[0msystem\u001b[0m\u001b[0;34m(\u001b[0m\u001b[0mcmd\u001b[0m\u001b[0;34m)\u001b[0m\u001b[0;34m\u001b[0m\u001b[0;34m\u001b[0m\u001b[0m\n\u001b[1;32m    635\u001b[0m         \u001b[0;32melse\u001b[0m\u001b[0;34m:\u001b[0m\u001b[0;34m\u001b[0m\u001b[0;34m\u001b[0m\u001b[0m\n\u001b[0;32m--> 636\u001b[0;31m             \u001b[0mself\u001b[0m\u001b[0;34m.\u001b[0m\u001b[0muser_ns\u001b[0m\u001b[0;34m[\u001b[0m\u001b[0;34m'_exit_code'\u001b[0m\u001b[0;34m]\u001b[0m \u001b[0;34m=\u001b[0m \u001b[0msystem\u001b[0m\u001b[0;34m(\u001b[0m\u001b[0mself\u001b[0m\u001b[0;34m.\u001b[0m\u001b[0mvar_expand\u001b[0m\u001b[0;34m(\u001b[0m\u001b[0mcmd\u001b[0m\u001b[0;34m,\u001b[0m \u001b[0mdepth\u001b[0m\u001b[0;34m=\u001b[0m\u001b[0;36m1\u001b[0m\u001b[0;34m)\u001b[0m\u001b[0;34m)\u001b[0m\u001b[0;34m\u001b[0m\u001b[0;34m\u001b[0m\u001b[0m\n\u001b[0m\u001b[1;32m    637\u001b[0m \u001b[0;34m\u001b[0m\u001b[0m\n\u001b[1;32m    638\u001b[0m     \u001b[0;31m# Ensure new system_piped implementation is used\u001b[0m\u001b[0;34m\u001b[0m\u001b[0;34m\u001b[0m\u001b[0;34m\u001b[0m\u001b[0m\n",
      "\u001b[0;32m/opt/conda/lib/python3.7/site-packages/IPython/utils/_process_posix.py\u001b[0m in \u001b[0;36msystem\u001b[0;34m(self, cmd)\u001b[0m\n\u001b[1;32m    171\u001b[0m             \u001b[0;31m# (the character is known as ETX for 'End of Text', see\u001b[0m\u001b[0;34m\u001b[0m\u001b[0;34m\u001b[0m\u001b[0;34m\u001b[0m\u001b[0m\n\u001b[1;32m    172\u001b[0m             \u001b[0;31m# curses.ascii.ETX).\u001b[0m\u001b[0;34m\u001b[0m\u001b[0;34m\u001b[0m\u001b[0;34m\u001b[0m\u001b[0m\n\u001b[0;32m--> 173\u001b[0;31m             \u001b[0mchild\u001b[0m\u001b[0;34m.\u001b[0m\u001b[0msendline\u001b[0m\u001b[0;34m(\u001b[0m\u001b[0mchr\u001b[0m\u001b[0;34m(\u001b[0m\u001b[0;36m3\u001b[0m\u001b[0;34m)\u001b[0m\u001b[0;34m)\u001b[0m\u001b[0;34m\u001b[0m\u001b[0;34m\u001b[0m\u001b[0m\n\u001b[0m\u001b[1;32m    174\u001b[0m             \u001b[0;31m# Read and print any more output the program might produce on its\u001b[0m\u001b[0;34m\u001b[0m\u001b[0;34m\u001b[0m\u001b[0;34m\u001b[0m\u001b[0m\n\u001b[1;32m    175\u001b[0m             \u001b[0;31m# way out.\u001b[0m\u001b[0;34m\u001b[0m\u001b[0;34m\u001b[0m\u001b[0;34m\u001b[0m\u001b[0m\n",
      "\u001b[0;31mUnboundLocalError\u001b[0m: local variable 'child' referenced before assignment"
     ]
    }
   ],
   "metadata": {
    "collapsed": true
   }
  },
  {
   "cell_type": "markdown",
   "source": [
    "## WIN_LOSS"
   ],
   "metadata": {}
  },
  {
   "cell_type": "code",
   "execution_count": 19,
   "source": [
    "for fold in [0,1,2]:\r\n",
    "    print(\"Fold: \", fold)\r\n",
    "    !python win_loss.py ../final_preds/march_nsgp_data/matern12_fold_{fold}.csv.gz ../nsgp_results/nsgp_res_fold{fold}longitude@latitude@humidity@temperature@weather@wind_direction@wind_speed@delta_t_contrbf.csv"
   ],
   "outputs": [
    {
     "output_type": "stream",
     "name": "stdout",
     "text": [
      "Fold:  0\n",
      "% win Series 1: 56.47849462365591\n",
      "% win Series 2: 43.52150537634409\n",
      "Fold:  1\n",
      "% win Series 1: 57.916666666666664\n",
      "% win Series 2: 42.083333333333336\n",
      "Fold:  2\n",
      "% win Series 1: 59.556451612903224\n",
      "% win Series 2: 40.443548387096776\n"
     ]
    }
   ],
   "metadata": {}
  },
  {
   "cell_type": "code",
   "execution_count": 20,
   "source": [
    "for fold in [0,1,2]:\r\n",
    "    print(\"Fold: \", fold)\r\n",
    "    !python win_loss.py ../final_preds/march_nsgp_data/matern12_fold_{fold}.csv.gz ../ml_results/fold{fold}/RF_scaled.csv.gz"
   ],
   "outputs": [
    {
     "output_type": "stream",
     "name": "stdout",
     "text": [
      "Fold:  0\n",
      "% win Series 1: 50.685483870967744\n",
      "% win Series 2: 49.314516129032256\n",
      "Fold:  1\n",
      "% win Series 1: 53.696236559139784\n",
      "% win Series 2: 46.303763440860216\n",
      "Fold:  2\n",
      "% win Series 1: 50.376344086021504\n",
      "% win Series 2: 49.623655913978496\n"
     ]
    }
   ],
   "metadata": {
    "scrolled": true
   }
  },
  {
   "cell_type": "code",
   "execution_count": 21,
   "source": [
    "for fold in [0,1,2]:\r\n",
    "    print(\"Fold: \", fold)\r\n",
    "    !python win_loss.py ../nsgp_results/nsgp_res_fold{fold}longitude@latitude@humidity@temperature@weather@wind_direction@wind_speed@delta_t_contrbf.csv ../ml_results/fold{fold}/RF_scaled.csv.gz"
   ],
   "outputs": [
    {
     "output_type": "stream",
     "name": "stdout",
     "text": [
      "Fold:  0\n",
      "% win Series 1: 47.37903225806452\n",
      "% win Series 2: 52.62096774193548\n",
      "Fold:  1\n",
      "% win Series 1: 46.895161290322584\n",
      "% win Series 2: 53.104838709677416\n",
      "Fold:  2\n",
      "% win Series 1: 42.204301075268816\n",
      "% win Series 2: 57.795698924731184\n"
     ]
    }
   ],
   "metadata": {
    "scrolled": true
   }
  },
  {
   "cell_type": "markdown",
   "source": [
    "# Getting Losses"
   ],
   "metadata": {}
  },
  {
   "cell_type": "code",
   "execution_count": 40,
   "source": [
    "!python train.py 0 rbf 0 march\r\n",
    "!python train.py 1 rbf 1 march\r\n",
    "!python train.py 2 rbf 0 march\r\n",
    "\r\n",
    "!python train.py 0 matern12 8 march\r\n",
    "!python train.py 1 matern12 9 march\r\n",
    "!python train.py 2 matern12 0 march\r\n",
    "\r\n",
    "!python train.py 0 matern32 8 march\r\n",
    "!python train.py 1 matern32 9 march\r\n",
    "!python train.py 2 matern32 0 march\r\n",
    "\r\n",
    "!python train.py 0 matern52 8 march\r\n",
    "!python train.py 1 matern52 1 march\r\n",
    "!python train.py 2 matern52 0 march\r\n",
    "\r\n",
    "!python train.py 0 matern_rbf 0 march\r\n",
    "!python train.py 1 matern_rbf 0 march\r\n",
    "!python train.py 2 matern_rbf 0 march\r\n",
    "\r\n",
    "!python train.py 0 maternXrbf 0 march\r\n",
    "!python train.py 1 maternXrbf 0 march\r\n",
    "!python train.py 2 maternXrbf 0 march"
   ],
   "outputs": [
    {
     "output_type": "stream",
     "name": "stdout",
     "text": [
      "Fold:  0\n",
      "Random State:  0\n",
      "100%|█████████████████████████████████████████| 400/400 [01:05<00:00,  6.07it/s]\n",
      "Loss:  65.70559692382812\n",
      "RMSE:  25.176939496415933\n",
      "Fold:  1\n",
      "Random State:  1\n",
      "100%|█████████████████████████████████████████| 400/400 [01:06<00:00,  6.03it/s]\n",
      "Loss:  102.3407974243164\n",
      "RMSE:  30.270843600669483\n",
      "Fold:  2\n",
      "Random State:  0\n",
      "100%|█████████████████████████████████████████| 400/400 [01:06<00:00,  6.04it/s]\n",
      "Loss:  67.06449890136719\n",
      "RMSE:  26.41725059551385\n",
      "Fold:  0\n",
      "Random State:  8\n",
      "100%|█████████████████████████████████████████| 400/400 [01:21<00:00,  4.88it/s]\n",
      "Loss:  48.87971115112305\n",
      "RMSE:  24.165682804071785\n",
      "Fold:  1\n",
      "Random State:  9\n",
      "100%|█████████████████████████████████████████| 400/400 [01:23<00:00,  4.81it/s]\n",
      "Loss:  68.29399871826172\n",
      "RMSE:  26.649889229851766\n",
      "Fold:  2\n",
      "Random State:  0\n",
      "100%|█████████████████████████████████████████| 400/400 [01:22<00:00,  4.86it/s]\n",
      "Loss:  46.083152770996094\n",
      "RMSE:  26.21899947472983\n",
      "Fold:  0\n",
      "Random State:  8\n",
      "100%|█████████████████████████████████████████| 400/400 [01:33<00:00,  4.27it/s]\n",
      "Loss:  55.32508087158203\n",
      "RMSE:  23.39121079091886\n",
      "Fold:  1\n",
      "Random State:  9\n",
      "100%|█████████████████████████████████████████| 400/400 [01:33<00:00,  4.28it/s]\n",
      "Loss:  70.36087799072266\n",
      "RMSE:  27.329625499041423\n",
      "Fold:  2\n",
      "Random State:  0\n",
      "100%|█████████████████████████████████████████| 400/400 [01:33<00:00,  4.28it/s]\n",
      "Loss:  52.31501388549805\n",
      "RMSE:  25.99589387881733\n",
      "Fold:  0\n",
      "Random State:  8\n",
      "100%|█████████████████████████████████████████| 400/400 [01:49<00:00,  3.67it/s]\n",
      "Loss:  64.68551635742188\n",
      "RMSE:  24.106531594648022\n",
      "Fold:  1\n",
      "Random State:  1\n",
      "100%|█████████████████████████████████████████| 400/400 [01:49<00:00,  3.64it/s]\n",
      "Loss:  91.060302734375\n",
      "RMSE:  28.64730254052854\n",
      "Fold:  2\n",
      "Random State:  0\n",
      "100%|█████████████████████████████████████████| 400/400 [01:48<00:00,  3.67it/s]\n",
      "Loss:  54.811153411865234\n",
      "RMSE:  25.932248269404244\n",
      "Fold:  0\n",
      "Random State:  0\n",
      "100%|█████████████████████████████████████████| 400/400 [01:36<00:00,  4.15it/s]\n",
      "Loss:  51.68968963623047\n",
      "RMSE:  35.40558784464104\n",
      "Fold:  1\n",
      "Random State:  0\n",
      " 66%|██████████████████████████▊              | 262/400 [01:03<00:32,  4.22it/s]Early stopping\n",
      " 66%|██████████████████████████▊              | 262/400 [01:04<00:33,  4.09it/s]\n",
      "Loss:  65.31652069091797\n",
      "RMSE:  39.69504642436942\n",
      "Fold:  2\n",
      "Random State:  0\n",
      "100%|█████████████████████████████████████████| 400/400 [01:35<00:00,  4.17it/s]\n",
      "Loss:  53.060482025146484\n",
      "RMSE:  34.31517987053381\n",
      "Fold:  0\n",
      "Random State:  0\n",
      "100%|█████████████████████████████████████████| 400/400 [01:41<00:00,  3.96it/s]\n",
      "Loss:  105.36382293701172\n",
      "RMSE:  37.8294837421403\n",
      "Fold:  1\n",
      "Random State:  0\n",
      "100%|█████████████████████████████████████████| 400/400 [01:40<00:00,  3.99it/s]\n",
      "Loss:  110.00485229492188\n",
      "RMSE:  46.02174727223512\n",
      "Fold:  2\n",
      "Random State:  0\n",
      "100%|█████████████████████████████████████████| 400/400 [01:40<00:00,  3.97it/s]\n",
      "Loss:  106.90682983398438\n",
      "RMSE:  39.36334184754953\n"
     ]
    }
   ],
   "metadata": {
    "collapsed": true
   }
  },
  {
   "cell_type": "code",
   "execution_count": 7,
   "source": [
    "for i in [5]:\r\n",
    "    !python train.py 0 local_p_delta {i} march_nsgp"
   ],
   "outputs": [
    {
     "output_type": "stream",
     "name": "stdout",
     "text": [
      "Fold:  0\n",
      "Random State:  5\n",
      "Initial Period Length: Parameter containing:\n",
      "tensor([[5.]], device='cuda:0', requires_grad=True)\n",
      "100%|█████████████████████████████████████████| 400/400 [01:30<00:00,  4.44it/s]\n",
      "Learnt Period Length: Parameter containing:\n",
      "tensor([[3.3894]], device='cuda:0', requires_grad=True)\n",
      "Loss:  99.39817810058594\n",
      "RMSE:  31.898585091380454\n"
     ]
    }
   ],
   "metadata": {}
  },
  {
   "cell_type": "code",
   "execution_count": 3,
   "source": [
    "# Only on Local Periodic Data\r\n",
    "for fold in [1,2]:\r\n",
    "    print(\"FOLD: \", fold)\r\n",
    "    for i in [5]:\r\n",
    "        !python train.py {fold} local_p_delta {i} march_nsgp"
   ],
   "outputs": [
    {
     "output_type": "stream",
     "name": "stdout",
     "text": [
      "FOLD:  1\n",
      "Fold:  1\n",
      "Random State:  5\n",
      "Initial Period Length: Parameter containing:\n",
      "tensor([[5.]], device='cuda:0', requires_grad=True)\n",
      "100%|█████████████████████████████████████████| 400/400 [01:29<00:00,  4.48it/s]\n",
      "Learnt Period Length: Parameter containing:\n",
      "tensor([[3.3964]], device='cuda:0', requires_grad=True)\n",
      "Loss:  94.25504302978516\n",
      "RMSE:  34.50554684897821\n",
      "FOLD:  2\n",
      "Fold:  2\n",
      "Random State:  5\n",
      "Initial Period Length: Parameter containing:\n",
      "tensor([[5.]], device='cuda:0', requires_grad=True)\n",
      "100%|█████████████████████████████████████████| 400/400 [01:29<00:00,  4.47it/s]\n",
      "Learnt Period Length: Parameter containing:\n",
      "tensor([[3.4178]], device='cuda:0', requires_grad=True)\n",
      "Loss:  101.36831665039062\n",
      "RMSE:  30.52990215209717\n"
     ]
    }
   ],
   "metadata": {
    "scrolled": true
   }
  },
  {
   "cell_type": "code",
   "execution_count": 16,
   "source": [
    "!python test.py 0 local_p_delta 'final_models/march_nsgp_data/local_p_delta_fold_0_random_state_5' march_nsgp"
   ],
   "outputs": [
    {
     "output_type": "stream",
     "name": "stdout",
     "text": [
      "Fold:  0\n",
      "Data received\n",
      "RMSE:  31.244683829276585\n"
     ]
    }
   ],
   "metadata": {}
  },
  {
   "cell_type": "code",
   "execution_count": 17,
   "source": [
    "!python test.py 1 local_p_delta 'final_models/march_nsgp_data/local_p_delta_fold_1_random_state_5' march_nsgp"
   ],
   "outputs": [
    {
     "output_type": "stream",
     "name": "stdout",
     "text": [
      "Fold:  1\n",
      "Data received\n",
      "RMSE:  34.67969999121579\n"
     ]
    }
   ],
   "metadata": {}
  },
  {
   "cell_type": "code",
   "execution_count": 18,
   "source": [
    "!python test.py 2 local_p_delta 'final_models/march_nsgp_data/local_p_delta_fold_2_random_state_5' march_nsgp"
   ],
   "outputs": [
    {
     "output_type": "stream",
     "name": "stdout",
     "text": [
      "Fold:  2\n",
      "Data received\n",
      "RMSE:  30.068043471482337\n"
     ]
    }
   ],
   "metadata": {}
  },
  {
   "cell_type": "code",
   "execution_count": 22,
   "source": [
    "# Learnt Length Scale:\r\n",
    "!python test.py 0 matern12 \"final_models/march_data_no_ARD/matern12_fold_0_random_state_0\" march"
   ],
   "outputs": [
    {
     "output_type": "stream",
     "name": "stdout",
     "text": [
      "Fold:  0\n",
      "Data received\n",
      "{'training': False, '_parameters': OrderedDict([('raw_lengthscale', Parameter containing:\n",
      "tensor([[0.7346]], device='cuda:0', requires_grad=True))]), '_buffers': OrderedDict([('active_dims', None)]), '_non_persistent_buffers_set': set(), '_backward_hooks': OrderedDict(), '_is_full_backward_hook': None, '_forward_hooks': OrderedDict(), '_forward_pre_hooks': OrderedDict(), '_state_dict_hooks': OrderedDict(), '_load_state_dict_pre_hooks': OrderedDict([(0, <bound method Module._load_state_hook_ignore_shapes of MaternKernel(\n",
      "  (raw_lengthscale_constraint): Positive()\n",
      "  (distance_module): Distance()\n",
      ")>)]), '_modules': OrderedDict([('raw_lengthscale_constraint', Positive()), ('distance_module', Distance())]), '_added_loss_terms': OrderedDict(), '_priors': OrderedDict(), '_constraints': OrderedDict([('raw_lengthscale_constraint', Positive())]), '_strict_init': True, '_load_strict_shapes': True, '_batch_shape': torch.Size([]), 'ard_num_dims': None, 'eps': 1e-06, '_Kernel__pdist_supports_batch': True, 'nu': 0.5}\n"
     ]
    }
   ],
   "metadata": {}
  },
  {
   "cell_type": "code",
   "execution_count": null,
   "source": [],
   "outputs": [],
   "metadata": {}
  }
 ],
 "metadata": {
  "kernelspec": {
   "display_name": "Python 3 (ipykernel)",
   "language": "python",
   "name": "python3"
  },
  "language_info": {
   "codemirror_mode": {
    "name": "ipython",
    "version": 3
   },
   "file_extension": ".py",
   "mimetype": "text/x-python",
   "name": "python",
   "nbconvert_exporter": "python",
   "pygments_lexer": "ipython3",
   "version": "3.7.10"
  }
 },
 "nbformat": 4,
 "nbformat_minor": 2
}